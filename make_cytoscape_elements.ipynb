{
 "cells": [
  {
   "cell_type": "code",
   "execution_count": 1,
   "id": "eb7c03a1",
   "metadata": {},
   "outputs": [],
   "source": [
    "import pandas as pd"
   ]
  },
  {
   "cell_type": "code",
   "execution_count": 2,
   "id": "6b3d6c26",
   "metadata": {},
   "outputs": [],
   "source": [
    "data=pd.read_excel('Extract2.xlsx')"
   ]
  },
  {
   "cell_type": "code",
   "execution_count": 5,
   "id": "37650464",
   "metadata": {},
   "outputs": [],
   "source": [
    "cvs=data.groupby(['OBJECT_NAME'])"
   ]
  },
  {
   "cell_type": "code",
   "execution_count": 7,
   "id": "9e48fb59",
   "metadata": {},
   "outputs": [
    {
     "data": {
      "text/plain": [
       "dict_keys(['CV_CLAIM', 'CV_GROUP_VIEW'])"
      ]
     },
     "execution_count": 7,
     "metadata": {},
     "output_type": "execute_result"
    }
   ],
   "source": [
    "cvs.groups.keys()"
   ]
  },
  {
   "cell_type": "code",
   "execution_count": 10,
   "id": "35315659",
   "metadata": {},
   "outputs": [],
   "source": [
    "cv_claim=cvs.get_group('CV_CLAIM')"
   ]
  },
  {
   "cell_type": "code",
   "execution_count": 12,
   "id": "c40fe82a",
   "metadata": {},
   "outputs": [
    {
     "data": {
      "text/plain": [
       "0      Projection_1\n",
       "1      Projection_1\n",
       "2      Projection_1\n",
       "3      Projection_1\n",
       "4      Projection_1\n",
       "           ...     \n",
       "137    logicalModel\n",
       "138          Join_5\n",
       "139          Join_5\n",
       "140             NaN\n",
       "141             NaN\n",
       "Name: TARGET_NODE, Length: 132, dtype: object"
      ]
     },
     "execution_count": 12,
     "metadata": {},
     "output_type": "execute_result"
    }
   ],
   "source": [
    "cv_claim['TARGET_NODE']"
   ]
  },
  {
   "cell_type": "code",
   "execution_count": 14,
   "id": "c4ef17d6",
   "metadata": {},
   "outputs": [
    {
     "data": {
      "text/plain": [
       "array(['CLAIM', 'CV_GROUP_VIEW', 'CLAIMANT', 'CLAIM_STATUS',\n",
       "       '#Projection_1', '#Projection_2', '#Projection_3', '#Join_1',\n",
       "       '#Join_2', '#Projection_4', '#Join_3', '#Join_4', 'Join_5', nan],\n",
       "      dtype=object)"
      ]
     },
     "execution_count": 14,
     "metadata": {},
     "output_type": "execute_result"
    }
   ],
   "source": [
    "cv_claim['SOURCE_NODE'].unique()"
   ]
  },
  {
   "cell_type": "code",
   "execution_count": 15,
   "id": "1f1db186",
   "metadata": {},
   "outputs": [
    {
     "data": {
      "text/plain": [
       "array(['Projection_1', 'Projection_2', 'Projection_3', 'Projection_4',\n",
       "       'Join_1', 'Join_2', 'Join_3', 'Join_4', 'Join_5', 'logicalModel',\n",
       "       nan], dtype=object)"
      ]
     },
     "execution_count": 15,
     "metadata": {},
     "output_type": "execute_result"
    }
   ],
   "source": [
    "cv_claim['TARGET_NODE'].unique()"
   ]
  },
  {
   "cell_type": "code",
   "execution_count": 20,
   "id": "1ef76481",
   "metadata": {},
   "outputs": [
    {
     "name": "stderr",
     "output_type": "stream",
     "text": [
      "C:\\Users\\imsud\\AppData\\Local\\Temp/ipykernel_3768/1347838216.py:1: SettingWithCopyWarning: \n",
      "A value is trying to be set on a copy of a slice from a DataFrame.\n",
      "Try using .loc[row_indexer,col_indexer] = value instead\n",
      "\n",
      "See the caveats in the documentation: https://pandas.pydata.org/pandas-docs/stable/user_guide/indexing.html#returning-a-view-versus-a-copy\n",
      "  cv_claim['SOURCE_NODE']=cv_claim['SOURCE_NODE'].fillna('')\n"
     ]
    }
   ],
   "source": [
    "cv_claim['SOURCE_NODE']=cv_claim['SOURCE_NODE'].fillna('')"
   ]
  },
  {
   "cell_type": "code",
   "execution_count": 40,
   "id": "6feb9fa6",
   "metadata": {},
   "outputs": [
    {
     "name": "stderr",
     "output_type": "stream",
     "text": [
      "C:\\Users\\imsud\\AppData\\Local\\Temp/ipykernel_3768/3848344398.py:1: SettingWithCopyWarning: \n",
      "A value is trying to be set on a copy of a slice from a DataFrame.\n",
      "Try using .loc[row_indexer,col_indexer] = value instead\n",
      "\n",
      "See the caveats in the documentation: https://pandas.pydata.org/pandas-docs/stable/user_guide/indexing.html#returning-a-view-versus-a-copy\n",
      "  cv_claim['SOURCE_NODE']=cv_claim['SOURCE_NODE'].replace('#','',regex=True)\n"
     ]
    }
   ],
   "source": [
    "cv_claim['SOURCE_NODE']=cv_claim['SOURCE_NODE'].replace('#','',regex=True)"
   ]
  },
  {
   "cell_type": "code",
   "execution_count": 25,
   "id": "c806940e",
   "metadata": {},
   "outputs": [
    {
     "name": "stderr",
     "output_type": "stream",
     "text": [
      "C:\\Users\\imsud\\AppData\\Local\\Temp/ipykernel_3768/1868942600.py:1: SettingWithCopyWarning: \n",
      "A value is trying to be set on a copy of a slice from a DataFrame.\n",
      "Try using .loc[row_indexer,col_indexer] = value instead\n",
      "\n",
      "See the caveats in the documentation: https://pandas.pydata.org/pandas-docs/stable/user_guide/indexing.html#returning-a-view-versus-a-copy\n",
      "  cv_claim['TARGET_NODE']=cv_claim['TARGET_NODE'].fillna('')\n"
     ]
    }
   ],
   "source": [
    "cv_claim['TARGET_NODE']=cv_claim['TARGET_NODE'].fillna('')"
   ]
  },
  {
   "cell_type": "code",
   "execution_count": 41,
   "id": "842d7228",
   "metadata": {},
   "outputs": [
    {
     "data": {
      "text/html": [
       "<div>\n",
       "<style scoped>\n",
       "    .dataframe tbody tr th:only-of-type {\n",
       "        vertical-align: middle;\n",
       "    }\n",
       "\n",
       "    .dataframe tbody tr th {\n",
       "        vertical-align: top;\n",
       "    }\n",
       "\n",
       "    .dataframe thead th {\n",
       "        text-align: right;\n",
       "    }\n",
       "</style>\n",
       "<table border=\"1\" class=\"dataframe\">\n",
       "  <thead>\n",
       "    <tr style=\"text-align: right;\">\n",
       "      <th></th>\n",
       "      <th>OBJECT_NAME</th>\n",
       "      <th>NODE_ID</th>\n",
       "      <th>TARGET_NODE</th>\n",
       "      <th>TARGET_VALUE</th>\n",
       "      <th>SOURCE_NODE</th>\n",
       "      <th>SOURCE_VALUE</th>\n",
       "      <th>SOURCE_TYPE</th>\n",
       "      <th>PROMPT_NAME</th>\n",
       "      <th>DATATYPE</th>\n",
       "      <th>LEN</th>\n",
       "      <th>MANDATORY</th>\n",
       "      <th>FORMULA</th>\n",
       "    </tr>\n",
       "  </thead>\n",
       "  <tbody>\n",
       "    <tr>\n",
       "      <th>0</th>\n",
       "      <td>CV_CLAIM</td>\n",
       "      <td>110.0</td>\n",
       "      <td>Projection_1</td>\n",
       "      <td>CLAIM_UID</td>\n",
       "      <td>CLAIM</td>\n",
       "      <td>CLAIM_UID</td>\n",
       "      <td>DATA_BASE_TABLE</td>\n",
       "      <td>NaN</td>\n",
       "      <td>NaN</td>\n",
       "      <td>NaN</td>\n",
       "      <td>NaN</td>\n",
       "      <td>NaN</td>\n",
       "    </tr>\n",
       "    <tr>\n",
       "      <th>1</th>\n",
       "      <td>CV_CLAIM</td>\n",
       "      <td>110.0</td>\n",
       "      <td>Projection_1</td>\n",
       "      <td>CLIENT_NUMBER</td>\n",
       "      <td>CLAIM</td>\n",
       "      <td>CLIENT_NUMBER</td>\n",
       "      <td>DATA_BASE_TABLE</td>\n",
       "      <td>NaN</td>\n",
       "      <td>NaN</td>\n",
       "      <td>NaN</td>\n",
       "      <td>NaN</td>\n",
       "      <td>NaN</td>\n",
       "    </tr>\n",
       "    <tr>\n",
       "      <th>2</th>\n",
       "      <td>CV_CLAIM</td>\n",
       "      <td>110.0</td>\n",
       "      <td>Projection_1</td>\n",
       "      <td>LINE_OF_BUSINESS</td>\n",
       "      <td>CLAIM</td>\n",
       "      <td>LINE_OF_BUSINESS</td>\n",
       "      <td>DATA_BASE_TABLE</td>\n",
       "      <td>NaN</td>\n",
       "      <td>NaN</td>\n",
       "      <td>NaN</td>\n",
       "      <td>NaN</td>\n",
       "      <td>NaN</td>\n",
       "    </tr>\n",
       "    <tr>\n",
       "      <th>3</th>\n",
       "      <td>CV_CLAIM</td>\n",
       "      <td>110.0</td>\n",
       "      <td>Projection_1</td>\n",
       "      <td>STATE_OF_LOSS</td>\n",
       "      <td>CLAIM</td>\n",
       "      <td>STATE_OF_LOSS</td>\n",
       "      <td>DATA_BASE_TABLE</td>\n",
       "      <td>NaN</td>\n",
       "      <td>NaN</td>\n",
       "      <td>NaN</td>\n",
       "      <td>NaN</td>\n",
       "      <td>NaN</td>\n",
       "    </tr>\n",
       "    <tr>\n",
       "      <th>4</th>\n",
       "      <td>CV_CLAIM</td>\n",
       "      <td>110.0</td>\n",
       "      <td>Projection_1</td>\n",
       "      <td>FORMATTED_FILE_NUMBER</td>\n",
       "      <td>CLAIM</td>\n",
       "      <td>FORMATTED_FILE_NUMBER</td>\n",
       "      <td>DATA_BASE_TABLE</td>\n",
       "      <td>NaN</td>\n",
       "      <td>NaN</td>\n",
       "      <td>NaN</td>\n",
       "      <td>NaN</td>\n",
       "      <td>NaN</td>\n",
       "    </tr>\n",
       "    <tr>\n",
       "      <th>...</th>\n",
       "      <td>...</td>\n",
       "      <td>...</td>\n",
       "      <td>...</td>\n",
       "      <td>...</td>\n",
       "      <td>...</td>\n",
       "      <td>...</td>\n",
       "      <td>...</td>\n",
       "      <td>...</td>\n",
       "      <td>...</td>\n",
       "      <td>...</td>\n",
       "      <td>...</td>\n",
       "      <td>...</td>\n",
       "    </tr>\n",
       "    <tr>\n",
       "      <th>137</th>\n",
       "      <td>CV_CLAIM</td>\n",
       "      <td>814.0</td>\n",
       "      <td>logicalModel</td>\n",
       "      <td>CA_COUNT</td>\n",
       "      <td>Join_5</td>\n",
       "      <td>CA_COUNT</td>\n",
       "      <td>NaN</td>\n",
       "      <td>NaN</td>\n",
       "      <td>NaN</td>\n",
       "      <td>NaN</td>\n",
       "      <td>NaN</td>\n",
       "      <td>NaN</td>\n",
       "    </tr>\n",
       "    <tr>\n",
       "      <th>138</th>\n",
       "      <td>CV_CLAIM</td>\n",
       "      <td>814.0</td>\n",
       "      <td>Join_5</td>\n",
       "      <td>CA_DATE_OF_LOSS</td>\n",
       "      <td></td>\n",
       "      <td>NaN</td>\n",
       "      <td>NaN</td>\n",
       "      <td>NaN</td>\n",
       "      <td>DATE</td>\n",
       "      <td>NaN</td>\n",
       "      <td>NaN</td>\n",
       "      <td>daydate(\"DATE_OF_LOSS\")</td>\n",
       "    </tr>\n",
       "    <tr>\n",
       "      <th>139</th>\n",
       "      <td>CV_CLAIM</td>\n",
       "      <td>814.0</td>\n",
       "      <td>Join_5</td>\n",
       "      <td>CA_COUNT</td>\n",
       "      <td></td>\n",
       "      <td>NaN</td>\n",
       "      <td>NaN</td>\n",
       "      <td>NaN</td>\n",
       "      <td>INTEGER</td>\n",
       "      <td>NaN</td>\n",
       "      <td>NaN</td>\n",
       "      <td>countDistinct( FORMATTED_FILE_NUMBER )</td>\n",
       "    </tr>\n",
       "    <tr>\n",
       "      <th>140</th>\n",
       "      <td>CV_CLAIM</td>\n",
       "      <td>NaN</td>\n",
       "      <td></td>\n",
       "      <td>NaN</td>\n",
       "      <td></td>\n",
       "      <td>NaN</td>\n",
       "      <td>NaN</td>\n",
       "      <td>IP_GROUP</td>\n",
       "      <td>NVARCHAR</td>\n",
       "      <td>150.0</td>\n",
       "      <td>1.0</td>\n",
       "      <td>NaN</td>\n",
       "    </tr>\n",
       "    <tr>\n",
       "      <th>141</th>\n",
       "      <td>CV_CLAIM</td>\n",
       "      <td>NaN</td>\n",
       "      <td></td>\n",
       "      <td>NaN</td>\n",
       "      <td></td>\n",
       "      <td>NaN</td>\n",
       "      <td>NaN</td>\n",
       "      <td>IP_ASOF_DATE</td>\n",
       "      <td>NVARCHAR</td>\n",
       "      <td>10.0</td>\n",
       "      <td>1.0</td>\n",
       "      <td>NaN</td>\n",
       "    </tr>\n",
       "  </tbody>\n",
       "</table>\n",
       "<p>132 rows × 12 columns</p>\n",
       "</div>"
      ],
      "text/plain": [
       "    OBJECT_NAME  NODE_ID   TARGET_NODE           TARGET_VALUE SOURCE_NODE  \\\n",
       "0      CV_CLAIM    110.0  Projection_1              CLAIM_UID       CLAIM   \n",
       "1      CV_CLAIM    110.0  Projection_1          CLIENT_NUMBER       CLAIM   \n",
       "2      CV_CLAIM    110.0  Projection_1       LINE_OF_BUSINESS       CLAIM   \n",
       "3      CV_CLAIM    110.0  Projection_1          STATE_OF_LOSS       CLAIM   \n",
       "4      CV_CLAIM    110.0  Projection_1  FORMATTED_FILE_NUMBER       CLAIM   \n",
       "..          ...      ...           ...                    ...         ...   \n",
       "137    CV_CLAIM    814.0  logicalModel               CA_COUNT      Join_5   \n",
       "138    CV_CLAIM    814.0        Join_5        CA_DATE_OF_LOSS               \n",
       "139    CV_CLAIM    814.0        Join_5               CA_COUNT               \n",
       "140    CV_CLAIM      NaN                                  NaN               \n",
       "141    CV_CLAIM      NaN                                  NaN               \n",
       "\n",
       "              SOURCE_VALUE      SOURCE_TYPE   PROMPT_NAME  DATATYPE    LEN  \\\n",
       "0                CLAIM_UID  DATA_BASE_TABLE           NaN       NaN    NaN   \n",
       "1            CLIENT_NUMBER  DATA_BASE_TABLE           NaN       NaN    NaN   \n",
       "2         LINE_OF_BUSINESS  DATA_BASE_TABLE           NaN       NaN    NaN   \n",
       "3            STATE_OF_LOSS  DATA_BASE_TABLE           NaN       NaN    NaN   \n",
       "4    FORMATTED_FILE_NUMBER  DATA_BASE_TABLE           NaN       NaN    NaN   \n",
       "..                     ...              ...           ...       ...    ...   \n",
       "137               CA_COUNT              NaN           NaN       NaN    NaN   \n",
       "138                    NaN              NaN           NaN      DATE    NaN   \n",
       "139                    NaN              NaN           NaN   INTEGER    NaN   \n",
       "140                    NaN              NaN      IP_GROUP  NVARCHAR  150.0   \n",
       "141                    NaN              NaN  IP_ASOF_DATE  NVARCHAR   10.0   \n",
       "\n",
       "     MANDATORY                                 FORMULA  \n",
       "0          NaN                                     NaN  \n",
       "1          NaN                                     NaN  \n",
       "2          NaN                                     NaN  \n",
       "3          NaN                                     NaN  \n",
       "4          NaN                                     NaN  \n",
       "..         ...                                     ...  \n",
       "137        NaN                                     NaN  \n",
       "138        NaN                 daydate(\"DATE_OF_LOSS\")  \n",
       "139        NaN  countDistinct( FORMATTED_FILE_NUMBER )  \n",
       "140        1.0                                     NaN  \n",
       "141        1.0                                     NaN  \n",
       "\n",
       "[132 rows x 12 columns]"
      ]
     },
     "execution_count": 41,
     "metadata": {},
     "output_type": "execute_result"
    }
   ],
   "source": [
    "cv_claim"
   ]
  },
  {
   "cell_type": "code",
   "execution_count": 49,
   "id": "5bc31ebd",
   "metadata": {},
   "outputs": [],
   "source": [
    "edges=list(cv_claim.groupby(['SOURCE_NODE','TARGET_NODE']).groups.keys())[2:]"
   ]
  },
  {
   "cell_type": "code",
   "execution_count": 50,
   "id": "886b3549",
   "metadata": {},
   "outputs": [
    {
     "data": {
      "text/plain": [
       "[('CLAIM', 'Projection_1'),\n",
       " ('CLAIMANT', 'Projection_3'),\n",
       " ('CLAIM_STATUS', 'Projection_4'),\n",
       " ('CV_GROUP_VIEW', 'Projection_2'),\n",
       " ('Join_1', 'Join_3'),\n",
       " ('Join_2', 'Join_3'),\n",
       " ('Join_3', 'Join_5'),\n",
       " ('Join_4', 'Join_5'),\n",
       " ('Join_5', 'logicalModel'),\n",
       " ('Projection_1', 'Join_1'),\n",
       " ('Projection_2', 'Join_1'),\n",
       " ('Projection_2', 'Join_2'),\n",
       " ('Projection_2', 'Join_4'),\n",
       " ('Projection_3', 'Join_2'),\n",
       " ('Projection_4', 'Join_4')]"
      ]
     },
     "execution_count": 50,
     "metadata": {},
     "output_type": "execute_result"
    }
   ],
   "source": [
    "edges"
   ]
  },
  {
   "cell_type": "code",
   "execution_count": 58,
   "id": "d4a3da78",
   "metadata": {},
   "outputs": [],
   "source": [
    "nodes=list(pd.concat([cv_claim['SOURCE_NODE'],cv_claim['TARGET_NODE']]).unique())"
   ]
  },
  {
   "cell_type": "code",
   "execution_count": 60,
   "id": "62989a44",
   "metadata": {},
   "outputs": [],
   "source": [
    "nodes.remove('')"
   ]
  },
  {
   "cell_type": "code",
   "execution_count": 61,
   "id": "8c3489f0",
   "metadata": {},
   "outputs": [
    {
     "data": {
      "text/plain": [
       "['CLAIM',\n",
       " 'CV_GROUP_VIEW',\n",
       " 'CLAIMANT',\n",
       " 'CLAIM_STATUS',\n",
       " 'Projection_1',\n",
       " 'Projection_2',\n",
       " 'Projection_3',\n",
       " 'Join_1',\n",
       " 'Join_2',\n",
       " 'Projection_4',\n",
       " 'Join_3',\n",
       " 'Join_4',\n",
       " 'Join_5',\n",
       " 'logicalModel']"
      ]
     },
     "execution_count": 61,
     "metadata": {},
     "output_type": "execute_result"
    }
   ],
   "source": [
    "nodes"
   ]
  },
  {
   "cell_type": "code",
   "execution_count": 63,
   "id": "adc0b85d",
   "metadata": {},
   "outputs": [],
   "source": [
    "def get_nodes_dict(nodes):\n",
    "    output=[]\n",
    "    for node in nodes:\n",
    "        output.append({'data':{'id':node,'label':node}})\n",
    "    return output"
   ]
  },
  {
   "cell_type": "code",
   "execution_count": 67,
   "id": "2d3f8395",
   "metadata": {},
   "outputs": [],
   "source": [
    "final_nodes=get_nodes_dict(nodes)"
   ]
  },
  {
   "cell_type": "code",
   "execution_count": 65,
   "id": "5130a980",
   "metadata": {},
   "outputs": [],
   "source": [
    "def get_edges_dict(edges):\n",
    "    output=[]\n",
    "    for edge in edges:\n",
    "        output.append({'data':{'source':edge[0],'target':edge[1]}})\n",
    "    return output"
   ]
  },
  {
   "cell_type": "code",
   "execution_count": 68,
   "id": "5b73327e",
   "metadata": {},
   "outputs": [],
   "source": [
    "final_edges=get_edges_dict(edges)"
   ]
  },
  {
   "cell_type": "code",
   "execution_count": 69,
   "id": "d88f29f4",
   "metadata": {},
   "outputs": [],
   "source": [
    "elements=final_nodes+final_edges"
   ]
  },
  {
   "cell_type": "code",
   "execution_count": 70,
   "id": "2ba40baf",
   "metadata": {},
   "outputs": [
    {
     "data": {
      "text/plain": [
       "[{'data': {'id': 'CLAIM', 'label': 'CLAIM'}},\n",
       " {'data': {'id': 'CV_GROUP_VIEW', 'label': 'CV_GROUP_VIEW'}},\n",
       " {'data': {'id': 'CLAIMANT', 'label': 'CLAIMANT'}},\n",
       " {'data': {'id': 'CLAIM_STATUS', 'label': 'CLAIM_STATUS'}},\n",
       " {'data': {'id': 'Projection_1', 'label': 'Projection_1'}},\n",
       " {'data': {'id': 'Projection_2', 'label': 'Projection_2'}},\n",
       " {'data': {'id': 'Projection_3', 'label': 'Projection_3'}},\n",
       " {'data': {'id': 'Join_1', 'label': 'Join_1'}},\n",
       " {'data': {'id': 'Join_2', 'label': 'Join_2'}},\n",
       " {'data': {'id': 'Projection_4', 'label': 'Projection_4'}},\n",
       " {'data': {'id': 'Join_3', 'label': 'Join_3'}},\n",
       " {'data': {'id': 'Join_4', 'label': 'Join_4'}},\n",
       " {'data': {'id': 'Join_5', 'label': 'Join_5'}},\n",
       " {'data': {'id': 'logicalModel', 'label': 'logicalModel'}},\n",
       " {'data': {'source': 'CLAIM', 'target': 'Projection_1'}},\n",
       " {'data': {'source': 'CLAIMANT', 'target': 'Projection_3'}},\n",
       " {'data': {'source': 'CLAIM_STATUS', 'target': 'Projection_4'}},\n",
       " {'data': {'source': 'CV_GROUP_VIEW', 'target': 'Projection_2'}},\n",
       " {'data': {'source': 'Join_1', 'target': 'Join_3'}},\n",
       " {'data': {'source': 'Join_2', 'target': 'Join_3'}},\n",
       " {'data': {'source': 'Join_3', 'target': 'Join_5'}},\n",
       " {'data': {'source': 'Join_4', 'target': 'Join_5'}},\n",
       " {'data': {'source': 'Join_5', 'target': 'logicalModel'}},\n",
       " {'data': {'source': 'Projection_1', 'target': 'Join_1'}},\n",
       " {'data': {'source': 'Projection_2', 'target': 'Join_1'}},\n",
       " {'data': {'source': 'Projection_2', 'target': 'Join_2'}},\n",
       " {'data': {'source': 'Projection_2', 'target': 'Join_4'}},\n",
       " {'data': {'source': 'Projection_3', 'target': 'Join_2'}},\n",
       " {'data': {'source': 'Projection_4', 'target': 'Join_4'}}]"
      ]
     },
     "execution_count": 70,
     "metadata": {},
     "output_type": "execute_result"
    }
   ],
   "source": [
    "elements"
   ]
  },
  {
   "cell_type": "code",
   "execution_count": 71,
   "id": "9b11f19f",
   "metadata": {},
   "outputs": [],
   "source": [
    "import pickle"
   ]
  },
  {
   "cell_type": "code",
   "execution_count": 74,
   "id": "2a74dd8d",
   "metadata": {},
   "outputs": [
    {
     "ename": "TypeError",
     "evalue": "write() argument must be str, not bytes",
     "output_type": "error",
     "traceback": [
      "\u001b[1;31m---------------------------------------------------------------------------\u001b[0m",
      "\u001b[1;31mTypeError\u001b[0m                                 Traceback (most recent call last)",
      "\u001b[1;32m~\\AppData\\Local\\Temp/ipykernel_3768/1496939667.py\u001b[0m in \u001b[0;36m<module>\u001b[1;34m\u001b[0m\n\u001b[0;32m      1\u001b[0m \u001b[1;32mwith\u001b[0m \u001b[0mopen\u001b[0m\u001b[1;33m(\u001b[0m\u001b[1;34m'elements.pkl'\u001b[0m\u001b[1;33m,\u001b[0m\u001b[1;34m'w'\u001b[0m\u001b[1;33m)\u001b[0m \u001b[1;32mas\u001b[0m \u001b[0mf\u001b[0m\u001b[1;33m:\u001b[0m\u001b[1;33m\u001b[0m\u001b[1;33m\u001b[0m\u001b[0m\n\u001b[1;32m----> 2\u001b[1;33m     \u001b[0mpickle\u001b[0m\u001b[1;33m.\u001b[0m\u001b[0mdump\u001b[0m\u001b[1;33m(\u001b[0m\u001b[0melements\u001b[0m\u001b[1;33m,\u001b[0m\u001b[0mf\u001b[0m\u001b[1;33m)\u001b[0m\u001b[1;33m\u001b[0m\u001b[1;33m\u001b[0m\u001b[0m\n\u001b[0m",
      "\u001b[1;31mTypeError\u001b[0m: write() argument must be str, not bytes"
     ]
    }
   ],
   "source": [
    "with open('elements.pkl','w') as f:\n",
    "    pickle.dump(elements,f)"
   ]
  },
  {
   "cell_type": "code",
   "execution_count": null,
   "id": "7cb57bc4",
   "metadata": {},
   "outputs": [],
   "source": []
  }
 ],
 "metadata": {
  "kernelspec": {
   "display_name": "Python 3 (ipykernel)",
   "language": "python",
   "name": "python3"
  },
  "language_info": {
   "codemirror_mode": {
    "name": "ipython",
    "version": 3
   },
   "file_extension": ".py",
   "mimetype": "text/x-python",
   "name": "python",
   "nbconvert_exporter": "python",
   "pygments_lexer": "ipython3",
   "version": "3.9.7"
  }
 },
 "nbformat": 4,
 "nbformat_minor": 5
}
